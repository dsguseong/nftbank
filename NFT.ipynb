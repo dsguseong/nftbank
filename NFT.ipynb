{
  "nbformat": 4,
  "nbformat_minor": 0,
  "metadata": {
    "colab": {
      "name": "NFT_new",
      "provenance": [],
      "collapsed_sections": []
    },
    "kernelspec": {
      "name": "python3",
      "display_name": "Python 3"
    },
    "language_info": {
      "name": "python"
    }
  },
  "cells": [
    {
      "cell_type": "code",
      "execution_count": 2,
      "metadata": {
        "id": "--4Yz0CXz75H"
      },
      "outputs": [],
      "source": [
        "%%capture\n",
        "import sys\n",
        "\n",
        "if 'google.colab' in sys.modules:\n",
        "    # Install packages in Colab\n",
        "    !pip install category_encoders==2.*\n",
        "    !pip install pandas-profiling==2.*\n",
        "\n",
        "\n",
        "!pip install category_encoders     ##매번 작업할때마다 설치해줘야한다...\n",
        "!pip install -U pandas-profiling \n",
        "!pip install -U scikit-learn\n",
        "from pandas_profiling import ProfileReport\n",
        "from category_encoders import OneHotEncoder\n",
        "from category_encoders import TargetEncoder\n",
        "from category_encoders import OrdinalEncoder\n",
        "\n",
        "from sklearn.pipeline import make_pipeline\n",
        "from sklearn.metrics import r2_score\n",
        "from sklearn.linear_model import RidgeCV\n",
        "from sklearn.linear_model import Ridge\n",
        "from sklearn.metrics import mean_absolute_error, r2_score\n",
        "from sklearn.linear_model import LinearRegression\n",
        "from sklearn.linear_model import LogisticRegression\n",
        "from sklearn.model_selection import train_test_split\n",
        "from sklearn.impute import SimpleImputer\n",
        "from sklearn.ensemble import RandomForestRegressor\n",
        "from sklearn.ensemble import RandomForestClassifier\n",
        "from sklearn.metrics import accuracy_score\n",
        "from sklearn.model_selection import cross_val_score\n",
        "from sklearn.model_selection import RandomizedSearchCV\n",
        "from sklearn.preprocessing import StandardScaler\n",
        "#from sklearn.preprocessing import OrdinalEncoder #float type을 제외한 다른 타입 전부 변환 *사용주의*\n",
        "from sklearn.feature_selection import f_regression, SelectKBest\n",
        "from scipy.stats import randint, uniform\n",
        "\n",
        "import matplotlib.pyplot as plt\n",
        "import seaborn as sns\n",
        "import pandas as pd\n",
        "import numpy as np\n",
        "np.seterr(divide='ignore', invalid='ignore') # (참고) warning 제거를 위한 코드\n",
        "\n",
        "\n",
        "from sklearn.model_selection import RandomizedSearchCV\n",
        "from sklearn.metrics import roc_curve\n",
        "\n",
        "\n",
        "# https://dacon.io/codeshare/2781?dtype=recent\n",
        "# 시간별 특성의 추이를 시각화를 통해 직관적으로 알아보기\n",
        "#필요한 모듈 불러오기\n",
        "import pandas as pd\n",
        "import numpy as np\n",
        "import matplotlib.pyplot as plt\n",
        "\n",
        "import pandas as pd\n",
        "import numpy as np\n",
        "\n",
        "import warnings\n",
        "warnings.filterwarnings('ignore')\n",
        "\n",
        "from matplotlib import font_manager, rc\n",
        "import matplotlib\n",
        "import matplotlib.pyplot as plt\n",
        "import seaborn as sns\n",
        "import pandas as pd\n",
        "import numpy as np\n",
        "import platform\n",
        "\n",
        "import numpy as np\n",
        "import matplotlib.pyplot as plt\n",
        "import pandas as pd\n",
        "import seaborn as sns\n",
        "from scipy import stats\n",
        "from sklearn.datasets import load_boston\n",
        "%matplotlib inline \n",
        "\n",
        "\n",
        "if platform.system() == 'Windows':\n",
        "    font_name = font_manager.FontPropertise(fname=\"c:/Windows/Fonts/malgun.ttf\").get_name()\n",
        "    rc('font', family = font_name)\n",
        "else:\n",
        "    rc('font',family='AppleGothic')\n",
        "    \n",
        "matplotlib.rcParams['axes.unicode_minus']=False"
      ]
    },
    {
      "cell_type": "markdown",
      "source": [
        "*웹크롤링으로 rarity 사이트에서 각 nft 아이템들의 실시간 랭킹 정보를 바탕으로 새로운  특성을 만들고 이 특성이 해당 모델의 가격 예측에 영향을 줄지 고려해볼 것*\n",
        "\n",
        "미래의 특정 기간에서의 이더리움 가격을 예측 해보고자하는 머신러닝 모델이다. 시계열 데이터의 활용방법에대한 지식이 필요.\n",
        "데이터 전처리, 이상치 제거, 테이블 병합 및 특성공학 요구 됨(예측결과에 영향을 미치는 특성들을 최종적으로 준비하기 전까지의 작업과정).\n",
        "평가지표 (metric) 에 맞는 모델링 그리고 그 해석이 필요시 됨.\n",
        "도메인에 대한 이해와 해당 데이터들을 분석하는 역량이 필요할 뿐만 아니라 이에 대한 설명력도 요구 됨. 시각화 하여 설명력을 높일 수 있을 것임.\n",
        "\n",
        "데이터에 대한 이해를 설명해주기 위해 시각화까지 사용하여 요구되어진 문제 해결을 위한 예측 모델을 최종적으로 만든다.\n",
        "\n",
        "이후,\n",
        "실시간으로 쌓이는 새로운 데이터들을 수집하고 -> 모델에 자동으로 학습하여 -> 이를 배포하여 고객에게까지 서빙하는 일련의 작업까지의 파이프라인 구축능력 요구됨.\n",
        "(이를 위한 여러 툴들의 사용법과 이해도 및 최적화를 위한 고려도 필요) "
      ],
      "metadata": {
        "id": "8_35i-ygShZd"
      }
    },
    {
      "cell_type": "code",
      "execution_count": 3,
      "metadata": {
        "colab": {
          "base_uri": "https://localhost:8080/"
        },
        "id": "9HUUdC9gDLY_",
        "outputId": "01042ee2-ad6e-41c6-c7c8-5ee239b6cc5d"
      },
      "outputs": [
        {
          "output_type": "stream",
          "name": "stdout",
          "text": [
            "Collecting jsonlines\n",
            "  Downloading jsonlines-3.0.0-py3-none-any.whl (8.5 kB)\n",
            "Requirement already satisfied: attrs>=19.2.0 in /usr/local/lib/python3.7/dist-packages (from jsonlines) (21.4.0)\n",
            "Requirement already satisfied: typing-extensions in /usr/local/lib/python3.7/dist-packages (from jsonlines) (3.10.0.2)\n",
            "Installing collected packages: jsonlines\n",
            "Successfully installed jsonlines-3.0.0\n"
          ]
        }
      ],
      "source": [
        "!pip install jsonlines\n",
        "import pandas as pd # pandas 모듈 로드\n",
        "import json  # json 모듈 로드\n",
        "import jsonlines\n",
        "from collections import OrderedDict"
      ]
    },
    {
      "cell_type": "code",
      "source": [
        "with open (\"/content/meebits_financial_events.jsonl\", \"r\") as t:\n",
        "    meebits_datas = json.load(t) ## load가 아닌 loads 함수를 사용 \n",
        "                         # data = json.loads(json_str)"
      ],
      "metadata": {
        "id": "1YUVb-UQGPBw"
      },
      "execution_count": 4,
      "outputs": []
    },
    {
      "cell_type": "code",
      "source": [
        "with open('/content/meebits_item_metadata.jsonl') as k:\n",
        "  k_update = json.load(k, object_pairs_hook=OrderedDict)"
      ],
      "metadata": {
        "id": "g8zXEX8_WtXW"
      },
      "execution_count": 5,
      "outputs": []
    },
    {
      "cell_type": "code",
      "source": [
        "ku = list(k_update)\n",
        "ku"
      ],
      "metadata": {
        "colab": {
          "base_uri": "https://localhost:8080/"
        },
        "id": "LaApTPpnXH9l",
        "outputId": "fbdc5e5a-6ba8-4414-b480-f1cd45670117"
      },
      "execution_count": 6,
      "outputs": [
        {
          "output_type": "execute_result",
          "data": {
            "text/plain": [
              "['item_id', 'trait_type', 'trait_value']"
            ]
          },
          "metadata": {},
          "execution_count": 6
        }
      ]
    },
    {
      "cell_type": "code",
      "source": [
        "item_id = [k_update[ku[0]][str(j)] for j in range(len(list(k_update[ku[0]])))]\n",
        "trait_type = [k_update[ku[1]][str(j)] for j in range(len(list(k_update[ku[1]])))]\n",
        "trait_value = [k_update[ku[2]][str(j)] for j in range(len(list(k_update[ku[2]])))]"
      ],
      "metadata": {
        "id": "VfJrsGsdoYgj"
      },
      "execution_count": 7,
      "outputs": []
    },
    {
      "cell_type": "code",
      "source": [
        "meta_df=pd.DataFrame({\"item_id\":item_id,\n",
        "                    \"trait_type\":trait_type,\n",
        "                    \"trait_value\":trait_value})"
      ],
      "metadata": {
        "id": "Ks8d7Ycfo6zk"
      },
      "execution_count": 8,
      "outputs": []
    },
    {
      "cell_type": "code",
      "source": [
        "with open('/content/eth_exchange_rates.jsonl') as f:\n",
        "  d_update = json.load(f, object_pairs_hook=OrderedDict)\n",
        "# 해당 jsonl 파일을 OrderedDict를 활용하여 순차적으로 정렬(시간의 순차적 기준을 맞춰주어 데이터를 모델링할 때 활용하기 위해)\n",
        "# 출처: https://engineer-mole.tistory.com/195 [매일 꾸준히, 더 깊이]"
      ],
      "metadata": {
        "id": "cWua_iO1TcaN"
      },
      "execution_count": 9,
      "outputs": []
    },
    {
      "cell_type": "code",
      "source": [
        "leo = list(d_update)\n",
        "leo"
      ],
      "metadata": {
        "colab": {
          "base_uri": "https://localhost:8080/"
        },
        "id": "synGZG8hUElx",
        "outputId": "05a73e95-ee57-403d-ad82-2313ba676b91"
      },
      "execution_count": 10,
      "outputs": [
        {
          "output_type": "execute_result",
          "data": {
            "text/plain": [
              "['block_date', 'eth_price']"
            ]
          },
          "metadata": {},
          "execution_count": 10
        }
      ]
    },
    {
      "cell_type": "code",
      "source": [
        "block_date = [d_update[leo[0]][str(j)] for j in range(len(list(d_update[leo[0]])))]\n",
        "eth_price = [d_update[leo[1]][str(j)] for j in range(len(list(d_update[leo[1]])))]"
      ],
      "metadata": {
        "id": "H4limIduVZ8A"
      },
      "execution_count": 11,
      "outputs": []
    },
    {
      "cell_type": "code",
      "source": [
        "rate_df=pd.DataFrame({\"block_date\":block_date,\n",
        "                    \"eth_price\":eth_price})"
      ],
      "metadata": {
        "id": "3Mv2yZI3o8ff"
      },
      "execution_count": 12,
      "outputs": []
    },
    {
      "cell_type": "code",
      "source": [
        "features = list(meebits_datas)\n",
        "features"
      ],
      "metadata": {
        "colab": {
          "base_uri": "https://localhost:8080/"
        },
        "id": "f2wxrJpok-T6",
        "outputId": "34a61d92-5106-48e0-b7ae-9121b3829d08"
      },
      "execution_count": 13,
      "outputs": [
        {
          "output_type": "execute_result",
          "data": {
            "text/plain": [
              "['item_id',\n",
              " 'buyer_id',\n",
              " 'seller_id',\n",
              " 'block_timestamp',\n",
              " 'transaction_hash',\n",
              " 'amount',\n",
              " 'sold_price_eth',\n",
              " 'sold_price_usd']"
            ]
          },
          "metadata": {},
          "execution_count": 13
        }
      ]
    },
    {
      "cell_type": "code",
      "source": [
        "item_id = [meebits_datas[features[0]][str(j)] for j in range(len(list(meebits_datas[features[0]])))]\n",
        "buyer_id = [meebits_datas[features[1]][str(j)] for j in range(len(list(meebits_datas[features[1]])))]\n",
        "seller_id = [meebits_datas[features[2]][str(j)] for j in range(len(list(meebits_datas[features[2]])))]\n",
        "block_timestamp = [meebits_datas[features[3]][str(j)] for j in range(len(list(meebits_datas[features[3]])))]\n",
        "transaction_hash = [meebits_datas[features[4]][str(j)] for j in range(len(list(meebits_datas[features[4]])))]\n",
        "amount = [meebits_datas[features[5]][str(j)] for j in range(len(list(meebits_datas[features[5]])))]\n",
        "sold_price_eth = [meebits_datas[features[6]][str(j)] for j in range(len(list(meebits_datas[features[6]])))]\n",
        "sold_price_usd = [meebits_datas[features[7]][str(j)] for j in range(len(list(meebits_datas[features[7]])))]\n",
        "# feature별로 각 객체에 할당\n"
      ],
      "metadata": {
        "id": "jvJad5-HhWrq"
      },
      "execution_count": 14,
      "outputs": []
    },
    {
      "cell_type": "code",
      "source": [
        "event_df = pd.DataFrame({\"item_id\":item_id,\n",
        "                    \"buyer_id\":buyer_id,\n",
        "                    \"seller_id\":seller_id,\n",
        "                    \"block_timestamp\":block_timestamp,\n",
        "                    \"transaction_hash\":transaction_hash,\n",
        "                    \"amount\":amount,\n",
        "                    \"sold_price_eth\":sold_price_eth,\n",
        "                    \"sold_price_usd\":sold_price_usd})"
      ],
      "metadata": {
        "id": "BxJxGexqDQ-B"
      },
      "execution_count": 15,
      "outputs": []
    },
    {
      "cell_type": "code",
      "source": [
        "event_df.head(5) # 데이터프레임화 한 후 샘플 5개 미리보기"
      ],
      "metadata": {
        "colab": {
          "base_uri": "https://localhost:8080/",
          "height": 357
        },
        "id": "stL2a-ZlEduF",
        "outputId": "84e6086f-66f6-4d7a-dbf8-4bf9eeb19710"
      },
      "execution_count": 16,
      "outputs": [
        {
          "output_type": "execute_result",
          "data": {
            "text/plain": [
              "                                            item_id  \\\n",
              "0    0x7bd29408f11d2bfc23c34f18275bbf23bb716bc7_312   \n",
              "1   0x7bd29408f11d2bfc23c34f18275bbf23bb716bc7_9991   \n",
              "2   0x7bd29408f11d2bfc23c34f18275bbf23bb716bc7_6684   \n",
              "3  0x7bd29408f11d2bfc23c34f18275bbf23bb716bc7_18024   \n",
              "4   0x7bd29408f11d2bfc23c34f18275bbf23bb716bc7_9533   \n",
              "\n",
              "                                     buyer_id  \\\n",
              "0  0x2643796cb6b4e715140f09c352ea26afff1a7d93   \n",
              "1  0x752cdfdffaeebe73bb1388f69f94553ade64c988   \n",
              "2  0x51a528da1083ba23943ba2092ee2a278c8715779   \n",
              "3  0xd6594066cac22ce062c60350118f68742523027d   \n",
              "4  0x268d3a8c4701000546dd0bf959bf6c8956cc3e5e   \n",
              "\n",
              "                                    seller_id            block_timestamp  \\\n",
              "0  0x46e449a3f88d0e35b4520bc36e8dfda195c896b0  2021-05-03 22:46:47+00:00   \n",
              "1  0xdcf227c475a43c82a4ffeb133729d6ce2f348a92  2021-05-05 18:33:25+00:00   \n",
              "2  0x6611fe71c233e4e7510b2795c242c9a57790b376  2021-08-02 00:07:43+00:00   \n",
              "3  0xdb3ccd266ed8f6e0f7f789b1dd7dd504e9c8d72c  2021-07-19 05:44:08+00:00   \n",
              "4  0x600c33790df27499f094b181124df8358c4d41aa  2021-08-01 21:28:32+00:00   \n",
              "\n",
              "                                    transaction_hash  amount  sold_price_eth  \\\n",
              "0  0x982217c43559c30aeb102a8305e7c2bfd1d3b464d149...     1.0             2.0   \n",
              "1  0xcedfdb84b0a800ac82d8a508c5f7c671c933c2c48852...     1.0             2.0   \n",
              "2  0x0a1fa9ea68add5a19d019e15564ce27d61153515ae12...     1.0             2.0   \n",
              "3  0xadcf8afbcfbdd8a5d75daa0d4561f5ded1ef6c82e1c6...     1.0             2.0   \n",
              "4  0xfca385350d13844033e2fcf05844241b82b0899c0ba0...     1.0             2.0   \n",
              "\n",
              "   sold_price_usd  \n",
              "0     5906.594696  \n",
              "1     6491.326298  \n",
              "2     5110.816357  \n",
              "3     3803.469098  \n",
              "4     5083.349199  "
            ],
            "text/html": [
              "\n",
              "  <div id=\"df-e41524c5-4d2c-417f-bccd-c1814e70a0bc\">\n",
              "    <div class=\"colab-df-container\">\n",
              "      <div>\n",
              "<style scoped>\n",
              "    .dataframe tbody tr th:only-of-type {\n",
              "        vertical-align: middle;\n",
              "    }\n",
              "\n",
              "    .dataframe tbody tr th {\n",
              "        vertical-align: top;\n",
              "    }\n",
              "\n",
              "    .dataframe thead th {\n",
              "        text-align: right;\n",
              "    }\n",
              "</style>\n",
              "<table border=\"1\" class=\"dataframe\">\n",
              "  <thead>\n",
              "    <tr style=\"text-align: right;\">\n",
              "      <th></th>\n",
              "      <th>item_id</th>\n",
              "      <th>buyer_id</th>\n",
              "      <th>seller_id</th>\n",
              "      <th>block_timestamp</th>\n",
              "      <th>transaction_hash</th>\n",
              "      <th>amount</th>\n",
              "      <th>sold_price_eth</th>\n",
              "      <th>sold_price_usd</th>\n",
              "    </tr>\n",
              "  </thead>\n",
              "  <tbody>\n",
              "    <tr>\n",
              "      <th>0</th>\n",
              "      <td>0x7bd29408f11d2bfc23c34f18275bbf23bb716bc7_312</td>\n",
              "      <td>0x2643796cb6b4e715140f09c352ea26afff1a7d93</td>\n",
              "      <td>0x46e449a3f88d0e35b4520bc36e8dfda195c896b0</td>\n",
              "      <td>2021-05-03 22:46:47+00:00</td>\n",
              "      <td>0x982217c43559c30aeb102a8305e7c2bfd1d3b464d149...</td>\n",
              "      <td>1.0</td>\n",
              "      <td>2.0</td>\n",
              "      <td>5906.594696</td>\n",
              "    </tr>\n",
              "    <tr>\n",
              "      <th>1</th>\n",
              "      <td>0x7bd29408f11d2bfc23c34f18275bbf23bb716bc7_9991</td>\n",
              "      <td>0x752cdfdffaeebe73bb1388f69f94553ade64c988</td>\n",
              "      <td>0xdcf227c475a43c82a4ffeb133729d6ce2f348a92</td>\n",
              "      <td>2021-05-05 18:33:25+00:00</td>\n",
              "      <td>0xcedfdb84b0a800ac82d8a508c5f7c671c933c2c48852...</td>\n",
              "      <td>1.0</td>\n",
              "      <td>2.0</td>\n",
              "      <td>6491.326298</td>\n",
              "    </tr>\n",
              "    <tr>\n",
              "      <th>2</th>\n",
              "      <td>0x7bd29408f11d2bfc23c34f18275bbf23bb716bc7_6684</td>\n",
              "      <td>0x51a528da1083ba23943ba2092ee2a278c8715779</td>\n",
              "      <td>0x6611fe71c233e4e7510b2795c242c9a57790b376</td>\n",
              "      <td>2021-08-02 00:07:43+00:00</td>\n",
              "      <td>0x0a1fa9ea68add5a19d019e15564ce27d61153515ae12...</td>\n",
              "      <td>1.0</td>\n",
              "      <td>2.0</td>\n",
              "      <td>5110.816357</td>\n",
              "    </tr>\n",
              "    <tr>\n",
              "      <th>3</th>\n",
              "      <td>0x7bd29408f11d2bfc23c34f18275bbf23bb716bc7_18024</td>\n",
              "      <td>0xd6594066cac22ce062c60350118f68742523027d</td>\n",
              "      <td>0xdb3ccd266ed8f6e0f7f789b1dd7dd504e9c8d72c</td>\n",
              "      <td>2021-07-19 05:44:08+00:00</td>\n",
              "      <td>0xadcf8afbcfbdd8a5d75daa0d4561f5ded1ef6c82e1c6...</td>\n",
              "      <td>1.0</td>\n",
              "      <td>2.0</td>\n",
              "      <td>3803.469098</td>\n",
              "    </tr>\n",
              "    <tr>\n",
              "      <th>4</th>\n",
              "      <td>0x7bd29408f11d2bfc23c34f18275bbf23bb716bc7_9533</td>\n",
              "      <td>0x268d3a8c4701000546dd0bf959bf6c8956cc3e5e</td>\n",
              "      <td>0x600c33790df27499f094b181124df8358c4d41aa</td>\n",
              "      <td>2021-08-01 21:28:32+00:00</td>\n",
              "      <td>0xfca385350d13844033e2fcf05844241b82b0899c0ba0...</td>\n",
              "      <td>1.0</td>\n",
              "      <td>2.0</td>\n",
              "      <td>5083.349199</td>\n",
              "    </tr>\n",
              "  </tbody>\n",
              "</table>\n",
              "</div>\n",
              "      <button class=\"colab-df-convert\" onclick=\"convertToInteractive('df-e41524c5-4d2c-417f-bccd-c1814e70a0bc')\"\n",
              "              title=\"Convert this dataframe to an interactive table.\"\n",
              "              style=\"display:none;\">\n",
              "        \n",
              "  <svg xmlns=\"http://www.w3.org/2000/svg\" height=\"24px\"viewBox=\"0 0 24 24\"\n",
              "       width=\"24px\">\n",
              "    <path d=\"M0 0h24v24H0V0z\" fill=\"none\"/>\n",
              "    <path d=\"M18.56 5.44l.94 2.06.94-2.06 2.06-.94-2.06-.94-.94-2.06-.94 2.06-2.06.94zm-11 1L8.5 8.5l.94-2.06 2.06-.94-2.06-.94L8.5 2.5l-.94 2.06-2.06.94zm10 10l.94 2.06.94-2.06 2.06-.94-2.06-.94-.94-2.06-.94 2.06-2.06.94z\"/><path d=\"M17.41 7.96l-1.37-1.37c-.4-.4-.92-.59-1.43-.59-.52 0-1.04.2-1.43.59L10.3 9.45l-7.72 7.72c-.78.78-.78 2.05 0 2.83L4 21.41c.39.39.9.59 1.41.59.51 0 1.02-.2 1.41-.59l7.78-7.78 2.81-2.81c.8-.78.8-2.07 0-2.86zM5.41 20L4 18.59l7.72-7.72 1.47 1.35L5.41 20z\"/>\n",
              "  </svg>\n",
              "      </button>\n",
              "      \n",
              "  <style>\n",
              "    .colab-df-container {\n",
              "      display:flex;\n",
              "      flex-wrap:wrap;\n",
              "      gap: 12px;\n",
              "    }\n",
              "\n",
              "    .colab-df-convert {\n",
              "      background-color: #E8F0FE;\n",
              "      border: none;\n",
              "      border-radius: 50%;\n",
              "      cursor: pointer;\n",
              "      display: none;\n",
              "      fill: #1967D2;\n",
              "      height: 32px;\n",
              "      padding: 0 0 0 0;\n",
              "      width: 32px;\n",
              "    }\n",
              "\n",
              "    .colab-df-convert:hover {\n",
              "      background-color: #E2EBFA;\n",
              "      box-shadow: 0px 1px 2px rgba(60, 64, 67, 0.3), 0px 1px 3px 1px rgba(60, 64, 67, 0.15);\n",
              "      fill: #174EA6;\n",
              "    }\n",
              "\n",
              "    [theme=dark] .colab-df-convert {\n",
              "      background-color: #3B4455;\n",
              "      fill: #D2E3FC;\n",
              "    }\n",
              "\n",
              "    [theme=dark] .colab-df-convert:hover {\n",
              "      background-color: #434B5C;\n",
              "      box-shadow: 0px 1px 3px 1px rgba(0, 0, 0, 0.15);\n",
              "      filter: drop-shadow(0px 1px 2px rgba(0, 0, 0, 0.3));\n",
              "      fill: #FFFFFF;\n",
              "    }\n",
              "  </style>\n",
              "\n",
              "      <script>\n",
              "        const buttonEl =\n",
              "          document.querySelector('#df-e41524c5-4d2c-417f-bccd-c1814e70a0bc button.colab-df-convert');\n",
              "        buttonEl.style.display =\n",
              "          google.colab.kernel.accessAllowed ? 'block' : 'none';\n",
              "\n",
              "        async function convertToInteractive(key) {\n",
              "          const element = document.querySelector('#df-e41524c5-4d2c-417f-bccd-c1814e70a0bc');\n",
              "          const dataTable =\n",
              "            await google.colab.kernel.invokeFunction('convertToInteractive',\n",
              "                                                     [key], {});\n",
              "          if (!dataTable) return;\n",
              "\n",
              "          const docLinkHtml = 'Like what you see? Visit the ' +\n",
              "            '<a target=\"_blank\" href=https://colab.research.google.com/notebooks/data_table.ipynb>data table notebook</a>'\n",
              "            + ' to learn more about interactive tables.';\n",
              "          element.innerHTML = '';\n",
              "          dataTable['output_type'] = 'display_data';\n",
              "          await google.colab.output.renderOutput(dataTable, element);\n",
              "          const docLink = document.createElement('div');\n",
              "          docLink.innerHTML = docLinkHtml;\n",
              "          element.appendChild(docLink);\n",
              "        }\n",
              "      </script>\n",
              "    </div>\n",
              "  </div>\n",
              "  "
            ]
          },
          "metadata": {},
          "execution_count": 16
        }
      ]
    },
    {
      "cell_type": "code",
      "source": [
        "print(rate_df)\n",
        "print(meta_df)\n",
        "print(event_df)\n",
        "# 세가지 데이터를 데이터프레임화 한 후 확인"
      ],
      "metadata": {
        "colab": {
          "base_uri": "https://localhost:8080/"
        },
        "id": "V5hu7LYb0YxW",
        "outputId": "f0ce691b-54a8-4024-b7aa-68fe525a1c73"
      },
      "execution_count": 17,
      "outputs": [
        {
          "output_type": "stream",
          "name": "stdout",
          "text": [
            "                    block_date    eth_price\n",
            "0    2021-05-03 00:00:00+00:00  2776.703712\n",
            "1    2021-05-04 00:00:00+00:00  2944.916947\n",
            "2    2021-05-05 00:00:00+00:00  2953.297348\n",
            "3    2021-05-06 00:00:00+00:00  3439.855070\n",
            "4    2021-05-07 00:00:00+00:00  3245.663149\n",
            "..                         ...          ...\n",
            "280  2022-02-07 00:00:00+00:00  2993.099440\n",
            "281  2022-02-08 00:00:00+00:00  3018.673398\n",
            "282  2022-02-09 00:00:00+00:00  3062.805808\n",
            "283  2022-02-10 00:00:00+00:00  3149.953286\n",
            "284  2022-02-11 00:00:00+00:00  3127.438107\n",
            "\n",
            "[285 rows x 2 columns]\n",
            "                                                 item_id  trait_type  \\\n",
            "0       0x7bd29408f11d2bfc23c34f18275bbf23bb716bc7_10017  Hair Style   \n",
            "1       0x7bd29408f11d2bfc23c34f18275bbf23bb716bc7_10033     Earring   \n",
            "2       0x7bd29408f11d2bfc23c34f18275bbf23bb716bc7_10048        Type   \n",
            "3       0x7bd29408f11d2bfc23c34f18275bbf23bb716bc7_10144  Hair Style   \n",
            "4       0x7bd29408f11d2bfc23c34f18275bbf23bb716bc7_10170  Hair Color   \n",
            "...                                                  ...         ...   \n",
            "201385   0x7bd29408f11d2bfc23c34f18275bbf23bb716bc7_6369       Shirt   \n",
            "201386   0x7bd29408f11d2bfc23c34f18275bbf23bb716bc7_6895       Shirt   \n",
            "201387    0x7bd29408f11d2bfc23c34f18275bbf23bb716bc7_929       Shirt   \n",
            "201388    0x7bd29408f11d2bfc23c34f18275bbf23bb716bc7_953       Shirt   \n",
            "201389   0x7bd29408f11d2bfc23c34f18275bbf23bb716bc7_9911       Shirt   \n",
            "\n",
            "             trait_value  \n",
            "0                  Messy  \n",
            "1           Gold Earring  \n",
            "2                    Pig  \n",
            "3                  Curly  \n",
            "4               Bleached  \n",
            "...                  ...  \n",
            "201385  Oversized Hoodie  \n",
            "201386  Oversized Hoodie  \n",
            "201387  Oversized Hoodie  \n",
            "201388  Oversized Hoodie  \n",
            "201389  Oversized Hoodie  \n",
            "\n",
            "[201390 rows x 3 columns]\n",
            "                                                item_id  \\\n",
            "0        0x7bd29408f11d2bfc23c34f18275bbf23bb716bc7_312   \n",
            "1       0x7bd29408f11d2bfc23c34f18275bbf23bb716bc7_9991   \n",
            "2       0x7bd29408f11d2bfc23c34f18275bbf23bb716bc7_6684   \n",
            "3      0x7bd29408f11d2bfc23c34f18275bbf23bb716bc7_18024   \n",
            "4       0x7bd29408f11d2bfc23c34f18275bbf23bb716bc7_9533   \n",
            "...                                                 ...   \n",
            "31540  0x7bd29408f11d2bfc23c34f18275bbf23bb716bc7_19564   \n",
            "31541  0x7bd29408f11d2bfc23c34f18275bbf23bb716bc7_19564   \n",
            "31542  0x7bd29408f11d2bfc23c34f18275bbf23bb716bc7_19564   \n",
            "31543  0x7bd29408f11d2bfc23c34f18275bbf23bb716bc7_19564   \n",
            "31544  0x7bd29408f11d2bfc23c34f18275bbf23bb716bc7_19564   \n",
            "\n",
            "                                         buyer_id  \\\n",
            "0      0x2643796cb6b4e715140f09c352ea26afff1a7d93   \n",
            "1      0x752cdfdffaeebe73bb1388f69f94553ade64c988   \n",
            "2      0x51a528da1083ba23943ba2092ee2a278c8715779   \n",
            "3      0xd6594066cac22ce062c60350118f68742523027d   \n",
            "4      0x268d3a8c4701000546dd0bf959bf6c8956cc3e5e   \n",
            "...                                           ...   \n",
            "31540  0xcaee6d433f36031b87d6e3c06395131a823314f3   \n",
            "31541  0xcaee6d433f36031b87d6e3c06395131a823314f3   \n",
            "31542  0xcaee6d433f36031b87d6e3c06395131a823314f3   \n",
            "31543  0xcaee6d433f36031b87d6e3c06395131a823314f3   \n",
            "31544  0xcaee6d433f36031b87d6e3c06395131a823314f3   \n",
            "\n",
            "                                        seller_id            block_timestamp  \\\n",
            "0      0x46e449a3f88d0e35b4520bc36e8dfda195c896b0  2021-05-03 22:46:47+00:00   \n",
            "1      0xdcf227c475a43c82a4ffeb133729d6ce2f348a92  2021-05-05 18:33:25+00:00   \n",
            "2      0x6611fe71c233e4e7510b2795c242c9a57790b376  2021-08-02 00:07:43+00:00   \n",
            "3      0xdb3ccd266ed8f6e0f7f789b1dd7dd504e9c8d72c  2021-07-19 05:44:08+00:00   \n",
            "4      0x600c33790df27499f094b181124df8358c4d41aa  2021-08-01 21:28:32+00:00   \n",
            "...                                           ...                        ...   \n",
            "31540  0x26c01ab4efffcf017fe0392fbdf080dcb8252d80  2022-02-06 08:35:05+00:00   \n",
            "31541  0x2edadfb25586b1e4d6623c7021e76a2fa595cdec  2022-02-09 08:52:35+00:00   \n",
            "31542  0x1407930f5ff83ff94532885557b334c74b3afc42  2022-02-10 07:15:11+00:00   \n",
            "31543  0x2edadfb25586b1e4d6623c7021e76a2fa595cdec  2022-02-11 08:57:32+00:00   \n",
            "31544  0xc32575be004af0843d995d6139bbeb9f8085d970  2022-02-12 08:10:13+00:00   \n",
            "\n",
            "                                        transaction_hash  amount  \\\n",
            "0      0x982217c43559c30aeb102a8305e7c2bfd1d3b464d149...     1.0   \n",
            "1      0xcedfdb84b0a800ac82d8a508c5f7c671c933c2c48852...     1.0   \n",
            "2      0x0a1fa9ea68add5a19d019e15564ce27d61153515ae12...     1.0   \n",
            "3      0xadcf8afbcfbdd8a5d75daa0d4561f5ded1ef6c82e1c6...     1.0   \n",
            "4      0xfca385350d13844033e2fcf05844241b82b0899c0ba0...     1.0   \n",
            "...                                                  ...     ...   \n",
            "31540  0x4806b1783d7397f9b61618e347177c05867a0e9feaef...     1.0   \n",
            "31541  0x276ee7768d0bfe68ea212ded9b84a4fb86b558c16dbe...     1.0   \n",
            "31542  0x89702893cf9ad429de9747430e44b3d2c2c02cc73f0a...     1.0   \n",
            "31543  0x3b1ccd31679ebbd9fecbccbd6e34f9711101cff681a5...     1.0   \n",
            "31544  0xaf60cbc2cc8eb74a89eb399376014fc4b8ad6cf15195...     1.0   \n",
            "\n",
            "       sold_price_eth  sold_price_usd  \n",
            "0            2.000000     5906.594696  \n",
            "1            2.000000     6491.326298  \n",
            "2            2.000000     5110.816357  \n",
            "3            2.000000     3803.469098  \n",
            "4            2.000000     5083.349199  \n",
            "...               ...             ...  \n",
            "31540      192.434180   581104.228381  \n",
            "31541      109.166770   342072.705767  \n",
            "31542      125.448658   406294.470211  \n",
            "31543      180.427730   555129.834851  \n",
            "31544      164.650614   482081.331918  \n",
            "\n",
            "[31545 rows x 8 columns]\n"
          ]
        }
      ]
    },
    {
      "cell_type": "code",
      "source": [
        "meta = meta_df.copy()\n",
        "meta['item_id'] = meta['item_id'].apply(lambda dt: dt[43:])\n",
        "meta['item_id'] = meta['item_id'].astype(int)"
      ],
      "metadata": {
        "id": "D_60nKUrpgze"
      },
      "execution_count": 18,
      "outputs": []
    },
    {
      "cell_type": "code",
      "source": [
        "meta['trait_type'].unique()"
      ],
      "metadata": {
        "colab": {
          "base_uri": "https://localhost:8080/"
        },
        "id": "X201t8JTp5lN",
        "outputId": "8d094164-38e5-437b-f1ac-6fbc58c72f8d"
      },
      "execution_count": 19,
      "outputs": [
        {
          "output_type": "execute_result",
          "data": {
            "text/plain": [
              "array(['Hair Style', 'Earring', 'Type', 'Hair Color', 'Pants', 'Shirt',\n",
              "       'Shoes', 'Shirt Color', 'Pants Color', 'Hat', 'Beard',\n",
              "       'Tattoo Motif', 'Overshirt', 'Glasses', 'Jersey Number',\n",
              "       'Beard Color', 'Overshirt Color', 'Shoes Color', 'Hat Color',\n",
              "       'Glasses Color', 'Necklace'], dtype=object)"
            ]
          },
          "metadata": {},
          "execution_count": 19
        }
      ]
    },
    {
      "cell_type": "code",
      "source": [
        "meta = meta[~meta['trait_type'].isin(['Tattoo Motif'])]#타투 모티브는 특성에 적합하지 않은 이상치라고 판단하여 제거\n",
        "meta['trait_value'].value_counts()"
      ],
      "metadata": {
        "colab": {
          "base_uri": "https://localhost:8080/"
        },
        "id": "x_-EOXmvAou0",
        "outputId": "e18b510a-ab27-4b18-cc5a-8ed2d1056143"
      },
      "execution_count": 20,
      "outputs": [
        {
          "output_type": "execute_result",
          "data": {
            "text/plain": [
              "Human          18881\n",
              "Dark           15050\n",
              "Black           8036\n",
              "Gray            7260\n",
              "White           6957\n",
              "               ...  \n",
              "LL Alien          13\n",
              "Glyph Shirt        6\n",
              "Dissected          5\n",
              "None               5\n",
              "No Shoes           2\n",
              "Name: trait_value, Length: 171, dtype: int64"
            ]
          },
          "metadata": {},
          "execution_count": 20
        }
      ]
    },
    {
      "cell_type": "code",
      "source": [
        "meta.shape"
      ],
      "metadata": {
        "colab": {
          "base_uri": "https://localhost:8080/"
        },
        "id": "yJJ_lBQFAlv6",
        "outputId": "f19559f7-975f-407c-af43-2f6c444aa1b5"
      },
      "execution_count": 21,
      "outputs": [
        {
          "output_type": "execute_result",
          "data": {
            "text/plain": [
              "(200396, 3)"
            ]
          },
          "metadata": {},
          "execution_count": 21
        }
      ]
    },
    {
      "cell_type": "code",
      "source": [
        "event = event_df.copy()\n",
        "\n",
        "event['date'] = event['block_timestamp'] \n",
        "event['date'] = event['date'].apply(lambda dt: dt[0:10])\n",
        "\n",
        "event['item_id'] = event['item_id'].apply(lambda dt: dt[43:])\n",
        "event['item_id'] = event['item_id'].astype(int)\n",
        "event_id = event\n",
        "event['block_timestamp']=pd.to_datetime(event['block_timestamp'])\n",
        "event = event.sort_values(by='block_timestamp').drop_duplicates(['item_id'], keep='last') # 가장 최근 거래되어진 각 고유 아이템의 거래 가격 데이터만 남겨둔다."
      ],
      "metadata": {
        "id": "c4UkXIR01ucH"
      },
      "execution_count": 24,
      "outputs": []
    },
    {
      "cell_type": "code",
      "source": [
        "len(event['item_id'])"
      ],
      "metadata": {
        "colab": {
          "base_uri": "https://localhost:8080/"
        },
        "id": "79POutNmyQ7z",
        "outputId": "4a85a161-05b9-4aa5-805d-5fce1a23ea21"
      },
      "execution_count": 25,
      "outputs": [
        {
          "output_type": "execute_result",
          "data": {
            "text/plain": [
              "11974"
            ]
          },
          "metadata": {},
          "execution_count": 25
        }
      ]
    },
    {
      "cell_type": "code",
      "source": [
        "meta"
      ],
      "metadata": {
        "colab": {
          "base_uri": "https://localhost:8080/",
          "height": 423
        },
        "id": "wuJqFM69_Jxj",
        "outputId": "b0e9977b-ea2f-44ba-e4e4-78ea904f6c0c"
      },
      "execution_count": 26,
      "outputs": [
        {
          "output_type": "execute_result",
          "data": {
            "text/plain": [
              "        item_id  trait_type       trait_value\n",
              "0         10017  Hair Style             Messy\n",
              "1         10033     Earring      Gold Earring\n",
              "2         10048        Type               Pig\n",
              "3         10144  Hair Style             Curly\n",
              "4         10170  Hair Color          Bleached\n",
              "...         ...         ...               ...\n",
              "201385     6369       Shirt  Oversized Hoodie\n",
              "201386     6895       Shirt  Oversized Hoodie\n",
              "201387      929       Shirt  Oversized Hoodie\n",
              "201388      953       Shirt  Oversized Hoodie\n",
              "201389     9911       Shirt  Oversized Hoodie\n",
              "\n",
              "[200396 rows x 3 columns]"
            ],
            "text/html": [
              "\n",
              "  <div id=\"df-8952efe0-b3ad-4b6a-97b1-818b8e79ef83\">\n",
              "    <div class=\"colab-df-container\">\n",
              "      <div>\n",
              "<style scoped>\n",
              "    .dataframe tbody tr th:only-of-type {\n",
              "        vertical-align: middle;\n",
              "    }\n",
              "\n",
              "    .dataframe tbody tr th {\n",
              "        vertical-align: top;\n",
              "    }\n",
              "\n",
              "    .dataframe thead th {\n",
              "        text-align: right;\n",
              "    }\n",
              "</style>\n",
              "<table border=\"1\" class=\"dataframe\">\n",
              "  <thead>\n",
              "    <tr style=\"text-align: right;\">\n",
              "      <th></th>\n",
              "      <th>item_id</th>\n",
              "      <th>trait_type</th>\n",
              "      <th>trait_value</th>\n",
              "    </tr>\n",
              "  </thead>\n",
              "  <tbody>\n",
              "    <tr>\n",
              "      <th>0</th>\n",
              "      <td>10017</td>\n",
              "      <td>Hair Style</td>\n",
              "      <td>Messy</td>\n",
              "    </tr>\n",
              "    <tr>\n",
              "      <th>1</th>\n",
              "      <td>10033</td>\n",
              "      <td>Earring</td>\n",
              "      <td>Gold Earring</td>\n",
              "    </tr>\n",
              "    <tr>\n",
              "      <th>2</th>\n",
              "      <td>10048</td>\n",
              "      <td>Type</td>\n",
              "      <td>Pig</td>\n",
              "    </tr>\n",
              "    <tr>\n",
              "      <th>3</th>\n",
              "      <td>10144</td>\n",
              "      <td>Hair Style</td>\n",
              "      <td>Curly</td>\n",
              "    </tr>\n",
              "    <tr>\n",
              "      <th>4</th>\n",
              "      <td>10170</td>\n",
              "      <td>Hair Color</td>\n",
              "      <td>Bleached</td>\n",
              "    </tr>\n",
              "    <tr>\n",
              "      <th>...</th>\n",
              "      <td>...</td>\n",
              "      <td>...</td>\n",
              "      <td>...</td>\n",
              "    </tr>\n",
              "    <tr>\n",
              "      <th>201385</th>\n",
              "      <td>6369</td>\n",
              "      <td>Shirt</td>\n",
              "      <td>Oversized Hoodie</td>\n",
              "    </tr>\n",
              "    <tr>\n",
              "      <th>201386</th>\n",
              "      <td>6895</td>\n",
              "      <td>Shirt</td>\n",
              "      <td>Oversized Hoodie</td>\n",
              "    </tr>\n",
              "    <tr>\n",
              "      <th>201387</th>\n",
              "      <td>929</td>\n",
              "      <td>Shirt</td>\n",
              "      <td>Oversized Hoodie</td>\n",
              "    </tr>\n",
              "    <tr>\n",
              "      <th>201388</th>\n",
              "      <td>953</td>\n",
              "      <td>Shirt</td>\n",
              "      <td>Oversized Hoodie</td>\n",
              "    </tr>\n",
              "    <tr>\n",
              "      <th>201389</th>\n",
              "      <td>9911</td>\n",
              "      <td>Shirt</td>\n",
              "      <td>Oversized Hoodie</td>\n",
              "    </tr>\n",
              "  </tbody>\n",
              "</table>\n",
              "<p>200396 rows × 3 columns</p>\n",
              "</div>\n",
              "      <button class=\"colab-df-convert\" onclick=\"convertToInteractive('df-8952efe0-b3ad-4b6a-97b1-818b8e79ef83')\"\n",
              "              title=\"Convert this dataframe to an interactive table.\"\n",
              "              style=\"display:none;\">\n",
              "        \n",
              "  <svg xmlns=\"http://www.w3.org/2000/svg\" height=\"24px\"viewBox=\"0 0 24 24\"\n",
              "       width=\"24px\">\n",
              "    <path d=\"M0 0h24v24H0V0z\" fill=\"none\"/>\n",
              "    <path d=\"M18.56 5.44l.94 2.06.94-2.06 2.06-.94-2.06-.94-.94-2.06-.94 2.06-2.06.94zm-11 1L8.5 8.5l.94-2.06 2.06-.94-2.06-.94L8.5 2.5l-.94 2.06-2.06.94zm10 10l.94 2.06.94-2.06 2.06-.94-2.06-.94-.94-2.06-.94 2.06-2.06.94z\"/><path d=\"M17.41 7.96l-1.37-1.37c-.4-.4-.92-.59-1.43-.59-.52 0-1.04.2-1.43.59L10.3 9.45l-7.72 7.72c-.78.78-.78 2.05 0 2.83L4 21.41c.39.39.9.59 1.41.59.51 0 1.02-.2 1.41-.59l7.78-7.78 2.81-2.81c.8-.78.8-2.07 0-2.86zM5.41 20L4 18.59l7.72-7.72 1.47 1.35L5.41 20z\"/>\n",
              "  </svg>\n",
              "      </button>\n",
              "      \n",
              "  <style>\n",
              "    .colab-df-container {\n",
              "      display:flex;\n",
              "      flex-wrap:wrap;\n",
              "      gap: 12px;\n",
              "    }\n",
              "\n",
              "    .colab-df-convert {\n",
              "      background-color: #E8F0FE;\n",
              "      border: none;\n",
              "      border-radius: 50%;\n",
              "      cursor: pointer;\n",
              "      display: none;\n",
              "      fill: #1967D2;\n",
              "      height: 32px;\n",
              "      padding: 0 0 0 0;\n",
              "      width: 32px;\n",
              "    }\n",
              "\n",
              "    .colab-df-convert:hover {\n",
              "      background-color: #E2EBFA;\n",
              "      box-shadow: 0px 1px 2px rgba(60, 64, 67, 0.3), 0px 1px 3px 1px rgba(60, 64, 67, 0.15);\n",
              "      fill: #174EA6;\n",
              "    }\n",
              "\n",
              "    [theme=dark] .colab-df-convert {\n",
              "      background-color: #3B4455;\n",
              "      fill: #D2E3FC;\n",
              "    }\n",
              "\n",
              "    [theme=dark] .colab-df-convert:hover {\n",
              "      background-color: #434B5C;\n",
              "      box-shadow: 0px 1px 3px 1px rgba(0, 0, 0, 0.15);\n",
              "      filter: drop-shadow(0px 1px 2px rgba(0, 0, 0, 0.3));\n",
              "      fill: #FFFFFF;\n",
              "    }\n",
              "  </style>\n",
              "\n",
              "      <script>\n",
              "        const buttonEl =\n",
              "          document.querySelector('#df-8952efe0-b3ad-4b6a-97b1-818b8e79ef83 button.colab-df-convert');\n",
              "        buttonEl.style.display =\n",
              "          google.colab.kernel.accessAllowed ? 'block' : 'none';\n",
              "\n",
              "        async function convertToInteractive(key) {\n",
              "          const element = document.querySelector('#df-8952efe0-b3ad-4b6a-97b1-818b8e79ef83');\n",
              "          const dataTable =\n",
              "            await google.colab.kernel.invokeFunction('convertToInteractive',\n",
              "                                                     [key], {});\n",
              "          if (!dataTable) return;\n",
              "\n",
              "          const docLinkHtml = 'Like what you see? Visit the ' +\n",
              "            '<a target=\"_blank\" href=https://colab.research.google.com/notebooks/data_table.ipynb>data table notebook</a>'\n",
              "            + ' to learn more about interactive tables.';\n",
              "          element.innerHTML = '';\n",
              "          dataTable['output_type'] = 'display_data';\n",
              "          await google.colab.output.renderOutput(dataTable, element);\n",
              "          const docLink = document.createElement('div');\n",
              "          docLink.innerHTML = docLinkHtml;\n",
              "          element.appendChild(docLink);\n",
              "        }\n",
              "      </script>\n",
              "    </div>\n",
              "  </div>\n",
              "  "
            ]
          },
          "metadata": {},
          "execution_count": 26
        }
      ]
    },
    {
      "cell_type": "code",
      "source": [
        "len(meta['trait_type'].unique())"
      ],
      "metadata": {
        "colab": {
          "base_uri": "https://localhost:8080/"
        },
        "id": "UUngr3dN_5KM",
        "outputId": "a08eb607-fb2f-47c5-81bb-b09eb3c930f1"
      },
      "execution_count": 27,
      "outputs": [
        {
          "output_type": "execute_result",
          "data": {
            "text/plain": [
              "20"
            ]
          },
          "metadata": {},
          "execution_count": 27
        }
      ]
    },
    {
      "cell_type": "code",
      "source": [
        "# 파라미터에 대한 설명\n",
        "# index: unique identifier\n",
        "# columns: \"wide\" 데이터에서 column별로 다르게 하고자 하는 값.\n",
        "# values: 결과값이 들어가는 곳 (wide 데이터프레임의 내용에 들어갈 값)\n",
        "wide = meta.pivot(index = 'item_id', columns = 'trait_type', values = 'trait_value')\n",
        "meta = wide.reset_index()"
      ],
      "metadata": {
        "id": "MqlhVXNt-k0c"
      },
      "execution_count": 28,
      "outputs": []
    },
    {
      "cell_type": "code",
      "source": [
        "df = df.set_index('item_id')"
      ],
      "metadata": {
        "id": "ZNVsfwACkCJI"
      },
      "execution_count": 39,
      "outputs": []
    },
    {
      "cell_type": "code",
      "source": [
        "# 가격 예측에 사용할 특성들과 타겟특성을 확인합니다.\n",
        "features = ['Beard', 'Beard Color', 'Earring', 'Glasses', 'Glasses Color',\n",
        "       'Hair Color', 'Hair Style', 'Hat', 'Hat Color', 'Jersey Number',\n",
        "       'Necklace', 'Overshirt', 'Overshirt Color', 'Pants', 'Pants Color',\n",
        "       'Shirt', 'Shirt Color', 'Shoes', 'Shoes Color', 'Type']\n",
        "\n",
        "target = 'sold_price_eth' #"
      ],
      "metadata": {
        "id": "VfUFLrQVP0U0"
      },
      "execution_count": 40,
      "outputs": []
    },
    {
      "cell_type": "code",
      "source": [
        "arima_df = pd.merge(event_id, meta, on='item_id', how='left')"
      ],
      "metadata": {
        "id": "xqtVa6WrXgz2"
      },
      "execution_count": 51,
      "outputs": []
    },
    {
      "cell_type": "code",
      "source": [
        "arima_df.info()"
      ],
      "metadata": {
        "colab": {
          "base_uri": "https://localhost:8080/"
        },
        "id": "vdSfqliSXtMI",
        "outputId": "7da81556-4e01-4aaa-f85b-7b1990eba95f"
      },
      "execution_count": 52,
      "outputs": [
        {
          "output_type": "stream",
          "name": "stdout",
          "text": [
            "<class 'pandas.core.frame.DataFrame'>\n",
            "Int64Index: 31545 entries, 0 to 31544\n",
            "Data columns (total 29 columns):\n",
            " #   Column            Non-Null Count  Dtype              \n",
            "---  ------            --------------  -----              \n",
            " 0   item_id           31545 non-null  int64              \n",
            " 1   buyer_id          31545 non-null  object             \n",
            " 2   seller_id         31545 non-null  object             \n",
            " 3   block_timestamp   31545 non-null  datetime64[ns, UTC]\n",
            " 4   transaction_hash  31545 non-null  object             \n",
            " 5   amount            31545 non-null  float64            \n",
            " 6   sold_price_eth    31545 non-null  float64            \n",
            " 7   sold_price_usd    31545 non-null  float64            \n",
            " 8   date              31545 non-null  object             \n",
            " 9   Beard             6283 non-null   object             \n",
            " 10  Beard Color       6156 non-null   object             \n",
            " 11  Earring           3419 non-null   object             \n",
            " 12  Glasses           12937 non-null  object             \n",
            " 13  Glasses Color     4248 non-null   object             \n",
            " 14  Hair Color        29117 non-null  object             \n",
            " 15  Hair Style        31545 non-null  object             \n",
            " 16  Hat               5768 non-null   object             \n",
            " 17  Hat Color         5290 non-null   object             \n",
            " 18  Jersey Number     849 non-null    object             \n",
            " 19  Necklace          5439 non-null   object             \n",
            " 20  Overshirt         4313 non-null   object             \n",
            " 21  Overshirt Color   2456 non-null   object             \n",
            " 22  Pants             31545 non-null  object             \n",
            " 23  Pants Color       28235 non-null  object             \n",
            " 24  Shirt             31545 non-null  object             \n",
            " 25  Shirt Color       21718 non-null  object             \n",
            " 26  Shoes             31545 non-null  object             \n",
            " 27  Shoes Color       19882 non-null  object             \n",
            " 28  Type              31545 non-null  object             \n",
            "dtypes: datetime64[ns, UTC](1), float64(3), int64(1), object(24)\n",
            "memory usage: 7.2+ MB\n"
          ]
        }
      ]
    },
    {
      "cell_type": "code",
      "source": [
        "# arima_df['sold_price_usd'].plot.hist();\n",
        "arima_df = arima_df.loc[(arima_df['sold_price_usd'] > 1) & (arima_df['sold_price_usd'] < 1000000)]#가격이 상승폭이 너무 크거나 다른 아이템들과 비교하여 가격이 너무 높거나 낮은 아이템들을 필터링 해줍니다.\n",
        "# arima_df = arima_df.loc[(arima_df['sold_price_eth'] > 0.001) & (arima_df['sold_price_eth'] < 8000)] #이상치 제거\n",
        "arima_df['sold_price_usd'] = arima_df['sold_price_usd'].astype(int)##############소수점이하는 큰 의미가 없으므로 조금 더 유리한 학습을 위해 정수화해줍니다.\n",
        "sns.scatterplot(x = 'item_id', y = 'sold_price_usd', data = arima_df)\n",
        "# sns.displot(arima_df['sold_price_usd'])"
      ],
      "metadata": {
        "colab": {
          "base_uri": "https://localhost:8080/",
          "height": 309
        },
        "id": "4cnnlzg1qG9r",
        "outputId": "db60654f-26a9-456b-9db2-7cf5756b08c8"
      },
      "execution_count": 77,
      "outputs": [
        {
          "output_type": "execute_result",
          "data": {
            "text/plain": [
              "<matplotlib.axes._subplots.AxesSubplot at 0x7fa930aef850>"
            ]
          },
          "metadata": {},
          "execution_count": 77
        },
        {
          "output_type": "display_data",
          "data": {
            "text/plain": [
              "<Figure size 432x288 with 1 Axes>"
            ],
            "image/png": "[encoded data removed]"
          },
          "metadata": {
            "needs_background": "light"
          }
        }
      ]
    },
    {
      "cell_type": "code",
      "source": [
        "sns.scatterplot(x = 'item_id', y = 'sold_price_eth', data = arima_df)#이더리움의 이상치를 확인합니다."
      ],
      "metadata": {
        "colab": {
          "base_uri": "https://localhost:8080/",
          "height": 299
        },
        "id": "cmKjlaTauhYA",
        "outputId": "3c53288b-6592-470f-d1bb-47ed6eb6c7fd"
      },
      "execution_count": 78,
      "outputs": [
        {
          "output_type": "execute_result",
          "data": {
            "text/plain": [
              "<matplotlib.axes._subplots.AxesSubplot at 0x7fa9309f6510>"
            ]
          },
          "metadata": {},
          "execution_count": 78
        },
        {
          "output_type": "display_data",
          "data": {
            "text/plain": [
              "<Figure size 432x288 with 1 Axes>"
            ],
            "image/png": "[encoded data removed]"
          },
          "metadata": {
            "needs_background": "light"
          }
        }
      ]
    },
    {
      "cell_type": "code",
      "source": [
        "\n",
        "\n",
        "df = arima_df.sort_values(by='block_timestamp')\n",
        "df = df.fillna(0)\n",
        "x = df[features]\n",
        "\n",
        "y = df['sold_price_usd']\n",
        "encoder = TargetEncoder()\n",
        "x = encoder.fit_transform(x, y)\n",
        "x['sold_price_usd'] = df['sold_price_usd']\n",
        "df = x\n",
        "\n",
        "print(df)"
      ],
      "metadata": {
        "colab": {
          "base_uri": "https://localhost:8080/"
        },
        "id": "27SvnRWTht9e",
        "outputId": "96396f61-3b65-4107-bb7c-7698ce128211"
      },
      "execution_count": 80,
      "outputs": [
        {
          "output_type": "stream",
          "name": "stdout",
          "text": [
            "              Beard   Beard Color       Earring       Glasses  Glasses Color  \\\n",
            "2525   54445.721627  54282.543268  53130.368622  21227.192661   56034.867086   \n",
            "85     54445.721627  54282.543268  53130.368622  41160.271441   56034.867086   \n",
            "84     54445.721627  54282.543268  53130.368622  41160.271441   56034.867086   \n",
            "83     54445.721627  54282.543268  53130.368622  41160.271441   56034.867086   \n",
            "82     54445.721627  54282.543268  53130.368622  26197.298865   31109.658288   \n",
            "...             ...           ...           ...           ...            ...   \n",
            "23016  54445.721627  54282.543268  12409.250988  79353.940938   56034.867086   \n",
            "23040  54445.721627  54282.543268  53130.368622  41160.271441   56034.867086   \n",
            "23070  54445.721627  54282.543268  26499.668313  41160.271441   56034.867086   \n",
            "23041  54445.721627  54282.543268  53130.368622  26197.298865   31109.658288   \n",
            "23027  54445.721627  54282.543268  53130.368622  50473.896893   42318.398143   \n",
            "\n",
            "         Hair Color    Hair Style           Hat      Hat Color  Jersey Number  \\\n",
            "2525   55802.454000  16266.327081  54619.076375   56283.195802   54269.266559   \n",
            "85     75908.146592  76590.906916  54619.076375   56283.195802   54269.266559   \n",
            "84     55802.454000  52474.508050  54619.076375   56283.195802   54269.266559   \n",
            "83     13770.663922  33547.022376  54619.076375   56283.195802   54269.266559   \n",
            "82     29795.546042  44987.660692  19024.241417  139281.744118   54269.266559   \n",
            "...             ...           ...           ...            ...            ...   \n",
            "23016  55802.454000  76780.573052  54619.076375   56283.195802   54269.266559   \n",
            "23040  55802.454000  44987.660692  57691.995218   26411.664021   54269.266559   \n",
            "23070  98189.137339  52474.508050  54619.076375   56283.195802   54269.266559   \n",
            "23041  16564.523546  19168.250128  54619.076375   56283.195802   54269.266559   \n",
            "23027  29795.546042  19168.250128  54619.076375   56283.195802   54269.266559   \n",
            "\n",
            "       ...     Overshirt  Overshirt Color          Pants   Pants Color  \\\n",
            "2525   ...  55494.694697     53900.126252   31593.770434  52207.255104   \n",
            "85     ...  55494.694697     53900.126252   34917.345394  16958.938356   \n",
            "84     ...  55494.694697     53900.126252  111677.248286  30622.549260   \n",
            "83     ...  55494.694697     53900.126252   31443.802849  28778.667793   \n",
            "82     ...  55605.941144     13138.471429   61967.550992  29548.425827   \n",
            "...    ...           ...              ...            ...           ...   \n",
            "23016  ...  55494.694697     53900.126252  111677.248286  30622.549260   \n",
            "23040  ...  55494.694697     53900.126252   54120.981116  18247.374608   \n",
            "23070  ...  55494.694697     53900.126252  111677.248286  52207.255104   \n",
            "23041  ...  55494.694697     53900.126252   31443.802849  28778.667793   \n",
            "23027  ...  55494.694697     53900.126252   41664.171067  70799.153505   \n",
            "\n",
            "              Shirt   Shirt Color         Shoes   Shoes Color          Type  \\\n",
            "2525   17919.188092  44900.653912  79267.500404  71860.244538  51291.572239   \n",
            "85     29809.760807  30570.815075  22379.059278  59197.404517  31934.402273   \n",
            "84     37251.424867  36425.565916  40687.302661  59197.404517  51291.572239   \n",
            "83     16444.402889  48065.370100  77626.364214  52015.714435  51291.572239   \n",
            "82     40835.091129  30570.815075  22379.059278  59197.404517  51291.572239   \n",
            "...             ...           ...           ...           ...           ...   \n",
            "23016  37251.424867  70055.724615  20708.447761  52015.714435  51291.572239   \n",
            "23040  19686.026349  24794.159054  40687.302661  22550.472183  51291.572239   \n",
            "23070  61264.715596  44900.653912  20708.447761  52015.714435  51291.572239   \n",
            "23041  40835.091129  48065.370100  25355.750000  56415.026891  51291.572239   \n",
            "23027  12346.762871  44900.653912  79267.500404  93826.069883  51291.572239   \n",
            "\n",
            "       sold_price_usd  \n",
            "2525            19196  \n",
            "85               5906  \n",
            "84               5906  \n",
            "83               5906  \n",
            "82               5906  \n",
            "...               ...  \n",
            "23016            9291  \n",
            "23040           10767  \n",
            "23070            9833  \n",
            "23041           14561  \n",
            "23027           11263  \n",
            "\n",
            "[29847 rows x 21 columns]\n"
          ]
        }
      ]
    },
    {
      "cell_type": "code",
      "source": [
        "import numpy as np \n",
        "\n",
        "import pandas as pd\n",
        "\n",
        "import pandas_datareader.data as pdr\n",
        "\n",
        "import matplotlib.pyplot as plt\n",
        "\n",
        "import datetime\n",
        "\n",
        "import torch\n",
        "\n",
        "import torch.nn as nn\n",
        "\n",
        "from torch.autograd import Variable\n",
        "\n",
        "import torch.optim as optim\n",
        "\n",
        "from torch.utils.data import Dataset, DataLoader\n",
        "\n",
        "from sklearn.preprocessing import StandardScaler, MinMaxScaler\n",
        "\n",
        "# GPU setting\n",
        "\n",
        "device = torch.device(\"cuda:0\" if torch.cuda.is_available() else \"cpu\")\n",
        "\n",
        "#print(torch.cuda.get_device_name(0)) #Google colab = TESLA T4\n",
        "\n",
        " \n",
        "\n",
        "# Training/Test ratio = 7:3\n",
        "\n",
        "Train_ratio = 0.7\n",
        "\n",
        "Test_ratio = 0.3\n",
        "\n",
        " \n",
        "\n",
        "# Data slicing\n",
        "\n",
        "x = df.iloc[:,0:-1]\n",
        "\n",
        "y = df.iloc[:,-1:]\n",
        "\n",
        " \n",
        "\n",
        "# Data Division\n",
        "\n",
        "train_x = x.iloc[0:int(len(df)*Train_ratio),:]\n",
        "\n",
        "train_y = y.iloc[0:int(len(df)*Train_ratio),:]\n",
        "\n",
        "test_x = x.iloc[int(len(df)*Train_ratio):,:]\n",
        "\n",
        "test_y = y.iloc[int(len(df)*Train_ratio):,:]\n",
        "\n",
        " \n",
        "\n",
        "# Normalizing , 둘다 학습하여 성능비교할것\n",
        "\n",
        "minmax = MinMaxScaler()\n",
        "\n",
        "standard = StandardScaler()\n",
        "\n",
        " \n",
        "\n",
        "train_x = minmax.fit_transform(train_x)\n",
        "\n",
        "train_y = minmax.fit_transform(train_y)\n",
        "\n",
        "test_x = minmax.fit_transform(test_x)\n",
        "\n",
        "test_y = minmax.fit_transform(test_y)\n",
        "\n",
        " \n",
        "\n",
        "# Check Data pre-processing\n",
        "\n",
        "#print(\"Training shape : \", train_x.shape, train_y.shape)\n",
        "\n",
        "#print(\"Test shape : \",test_x.shape, test_y.shape)\n",
        "\n",
        " \n",
        "\n",
        "# Numpy array상태로는 학습이 불가능하므로, Torch Variable 형태로 변경(data/grad/grad_fn)\n",
        "\n",
        "train_x_tensor = Variable(torch.Tensor(train_x))\n",
        "\n",
        "train_y_tensor = Variable(torch.Tensor(train_y))\n",
        "\n",
        "#print(\"After torch variable shape_Train : \",train_x_tensor.shape, train_y.shape)\n",
        "\n",
        " \n",
        "\n",
        "test_x_tensor = Variable(torch.Tensor(test_x))\n",
        "\n",
        "test_y_tensor = Variable(torch.Tensor(test_y))\n",
        "\n",
        "#print(\"After torch Variable shape_Test : \",test_x_tensor.shape, test_y_tensor.shape)\n",
        "\n",
        " \n",
        "\n",
        "train_x_tensor_final = torch.reshape(train_x_tensor, (train_x_tensor.shape[0], 1, train_x_tensor.shape[1]))\n",
        "\n",
        "train_y_tensor_final = torch.reshape(train_y_tensor, (train_y_tensor.shape[0], 1, train_y_tensor.shape[1]))\n",
        "\n",
        "test_x_tensor_final = torch.reshape(test_x_tensor, (test_x_tensor.shape[0], 1, test_x_tensor.shape[1]))\n",
        "\n",
        "test_y_tensor_final = torch.reshape(test_y_tensor,(test_y_tensor.shape[0], 1, test_y_tensor.shape[1]) )\n",
        "\n",
        "#print(train_x_tensor_final.shape, test_x_tensor_final.shape)\n",
        "\n",
        " \n",
        "\n",
        "# LSTM network modeling\n",
        "\n",
        "class LSTM_Jun(nn.Module):\n",
        "\n",
        "    def __init__(self, num_classes, input_size, hidden_size, num_layers, seq_length) : \n",
        "\n",
        "        super(LSTM_Jun, self).__init__()\n",
        "\n",
        "        self.num_classes = num_classes\n",
        "\n",
        "        self.num_layers = num_layers\n",
        "\n",
        "        self.input_size = input_size\n",
        "\n",
        "        self.hidden_size = hidden_size\n",
        "\n",
        "        self.seq_length = seq_length\n",
        "\n",
        "        self.lstm = nn.LSTM(input_size = input_size, hidden_size = hidden_size, num_layers = num_layers, batch_first = True)\n",
        "\n",
        "        self.layer_1 = nn.Linear(hidden_size, 256)\n",
        "\n",
        "        self.layer_2 = nn.Linear(256,256)\n",
        "\n",
        "        self.layer_3 = nn.Linear(256,128)\n",
        "\n",
        "        self.layer_out = nn.Linear(128, num_classes)\n",
        "\n",
        "        self.relu = nn.ReLU() #Activation Func\n",
        "\n",
        " \n",
        "\n",
        "    def forward(self,x):\n",
        "\n",
        "        h_0 = Variable(torch.zeros(self.num_layers, x.size(0), self.hidden_size)).to(device) #Hidden State\n",
        "\n",
        "        c_0 = Variable(torch.zeros(self.num_layers, x.size(0), self.hidden_size)).to(device) #Internal Process States\n",
        "\n",
        " \n",
        "\n",
        "        output, (hn, cn) = self.lstm(x, (h_0, c_0))\n",
        "\n",
        " \n",
        "\n",
        "        hn = hn.view(-1, self.hidden_size) # Reshaping the data for starting LSTM network\n",
        "\n",
        "        out = self.relu(hn) #pre-processing for first layer\n",
        "\n",
        "        out = self.layer_1(out) # first layer\n",
        "\n",
        "        out = self.relu(out) # activation func relu\n",
        "\n",
        "        out = self.layer_2(out)\n",
        "\n",
        "        out = self.relu(out)\n",
        "\n",
        "        out = self.layer_3(out)\n",
        "\n",
        "        out = self.relu(out)\n",
        "\n",
        "        out = self.layer_out(out) #Output layer\n",
        "\n",
        "        return out\n",
        "\n",
        " \n",
        "\n",
        "# Code Main\n",
        "\n",
        "num_epochs = 1600   #10000\n",
        "\n",
        "learning_rate = 0.001\n",
        "\n",
        "input_size = int(len(x.columns))\n",
        "\n",
        "hidden_size = 2 # number of features in hidden state\n",
        "\n",
        "num_layers = 1\n",
        "\n",
        "num_classes = int(len(y.columns))\n",
        "\n",
        " \n",
        "\n",
        "LSTM_Jun = LSTM_Jun(num_classes, input_size, hidden_size, num_layers, train_x_tensor_final.shape[1]).to(device)#최종 변수\n",
        "\n",
        " #----바로 아래는 에폭 변화에 따른 로스 값 출력 ---\n",
        "\n",
        "loss_function = torch.nn.MSELoss()\n",
        "\n",
        "optimizer = torch.optim.Adam(LSTM_Jun.parameters(), lr = learning_rate)\n",
        "\n",
        " \n",
        "\n",
        "for epoch in range(num_epochs) : \n",
        "\n",
        "    outputs = LSTM_Jun.forward(train_x_tensor_final.to(device))\n",
        "\n",
        "    optimizer.zero_grad()\n",
        "\n",
        "    loss = loss_function(outputs, train_y_tensor.to(device))\n",
        "\n",
        "    loss.backward()\n",
        "\n",
        "    optimizer.step() # improve from loss = back propagation\n",
        "\n",
        "    if epoch % 200 == 0 :\n",
        "\n",
        "        print(\"Epoch : %d, loss : %1.5f\" % (epoch, loss.item()))\n",
        "\n",
        " \n",
        "#----------------------------------------------아래는 훈련데이터로 훈련된 모델을 가지고 훈련데이터의 예측결과 값을 구함--------------\n",
        "# Estimated Value\n",
        "\n",
        "test_predict = LSTM_Jun(train_x_tensor_final.to(device)) #Forward Pass\n",
        "\n",
        "predict_data = test_predict.data.detach().cpu().numpy() #numpy conversion\n",
        "\n",
        "predict_data = minmax.inverse_transform(predict_data) #inverse normalization(Min/Max)\n",
        "\n",
        " \n",
        "\n",
        "# Real Value\n",
        "\n",
        "real_data = train_y_tensor.data.numpy() # Real value\n",
        "\n",
        "real_data = minmax.inverse_transform(real_data) #inverse normalization\n",
        "\n",
        " \n",
        "\n",
        "#Figure\n",
        "\n",
        "plt.figure(figsize = (10,6)) # Plotting\n",
        "\n",
        "plt.plot(real_data, label = 'Real Data')\n",
        "\n",
        "plt.plot(predict_data, label = 'predicted data')\n",
        "\n",
        "plt.title('Time series prediction')\n",
        "\n",
        "plt.legend()\n",
        "\n",
        "plt.show()\n",
        "# 1400의 에폭만으로도 학습데이터에 얼추 피팅하는 모습을 보여줍니다. \n",
        "#참고 출처:https://limitsinx.tistory.com/144"
      ],
      "metadata": {
        "colab": {
          "base_uri": "https://localhost:8080/",
          "height": 536
        },
        "id": "Dj1-DWWvgvVw",
        "outputId": "733ec605-8070-409b-b1d6-1ad4836bb7f8"
      },
      "execution_count": 98,
      "outputs": [
        {
          "output_type": "stream",
          "name": "stdout",
          "text": [
            "Epoch : 0, loss : 0.00957\n",
            "Epoch : 200, loss : 0.00077\n",
            "Epoch : 400, loss : 0.00076\n",
            "Epoch : 600, loss : 0.00064\n",
            "Epoch : 800, loss : 0.00063\n",
            "Epoch : 1000, loss : 0.00062\n",
            "Epoch : 1200, loss : 0.00061\n",
            "Epoch : 1400, loss : 0.00061\n"
          ]
        },
        {
          "output_type": "display_data",
          "data": {
            "text/plain": [
              "<Figure size 720x432 with 1 Axes>"
            ],
            "image/png": "[encoded data removed]"
          },
          "metadata": {
            "needs_background": "light"
          }
        }
      ]
    },
    {
      "cell_type": "code",
      "source": [
        "\n",
        " \n",
        "#----------------------------------------------아래는 테스트데이터(알고싶은 미래 결과)로 훈련된 모델을 가지고 테스트데이터의 예측결과 값을 구함--------------\n",
        "# Estimated Value\n",
        "\n",
        "test_predict = LSTM_Jun(test_x_tensor_final.to(device)) #Forward Pass\n",
        "\n",
        "predict_data = test_predict.data.detach().cpu().numpy() #numpy conversion\n",
        "\n",
        "predict_data = minmax.inverse_transform(predict_data) #inverse normalization(Min/Max)\n",
        "\n",
        " \n",
        "\n",
        "# Real Value\n",
        "\n",
        "real_data = test_y_tensor.data.numpy() # Real value\n",
        "\n",
        "real_data = minmax.inverse_transform(real_data) #inverse normalization\n",
        "\n",
        " \n",
        "\n",
        "#Figure\n",
        "\n",
        "plt.figure(figsize = (10,6)) # Plotting\n",
        "\n",
        "plt.plot(real_data, label = 'Real Data')\n",
        "\n",
        "plt.plot(predict_data, label = 'predicted data')\n",
        "\n",
        "plt.title('Time series prediction')\n",
        "\n",
        "plt.legend()\n",
        "\n",
        "plt.show() # 먼 미래의 데이터를 예측할 경우, 모델의 성능이 떨어짐을 보여줍니다."
      ],
      "metadata": {
        "colab": {
          "base_uri": "https://localhost:8080/",
          "height": 390
        },
        "id": "Sl_VS1PpnKhW",
        "outputId": "624a93da-8bcd-48ed-dc1e-5cd7645755af"
      },
      "execution_count": 99,
      "outputs": [
        {
          "output_type": "display_data",
          "data": {
            "text/plain": [
              "<Figure size 720x432 with 1 Axes>"
            ],
            "image/png": "[encoded data removed]"
          },
          "metadata": {
            "needs_background": "light"
          }
        }
      ]
    },
    {
      "cell_type": "code",
      "source": [
        "test_p = x.iloc[int(len(df)*Train_ratio):,:]\n",
        "test_p['predict_data'] = predict_data\n",
        "test_p = test_p.join(arima_df['item_id'], how='inner')\n",
        "test_p = test_p.join(arima_df['date'], how='inner')\n",
        "len(test_p['item_id'].unique())"
      ],
      "metadata": {
        "colab": {
          "base_uri": "https://localhost:8080/"
        },
        "id": "WW0ECs1huck8",
        "outputId": "5f913328-5a9b-4684-de2e-2a281ebaa8e4"
      },
      "execution_count": 83,
      "outputs": [
        {
          "output_type": "execute_result",
          "data": {
            "text/plain": [
              "2919"
            ]
          },
          "metadata": {},
          "execution_count": 83
        }
      ]
    },
    {
      "cell_type": "code",
      "source": [
        "import numpy as np\n",
        "mdape = np.abs(np.subtract(real_data, predict_data) / real_data)"
      ],
      "metadata": {
        "id": "dJXY-qJ735CB"
      },
      "execution_count": 84,
      "outputs": []
    },
    {
      "cell_type": "code",
      "source": [
        "test_p['mdape'] = mdape"
      ],
      "metadata": {
        "id": "MKI4FPJ35n8D"
      },
      "execution_count": 85,
      "outputs": []
    },
    {
      "cell_type": "code",
      "source": [
        "test_p = test_p[['item_id', 'date', 'mdape']]\n",
        "test_p = test_p.rename(columns={'item_id':'ID', 'date':'TARGET_DATE', 'mdape':'TARGET'})"
      ],
      "metadata": {
        "id": "wkSugFjUby3B"
      },
      "execution_count": 86,
      "outputs": []
    },
    {
      "cell_type": "code",
      "source": [
        "test_p.info()"
      ],
      "metadata": {
        "colab": {
          "base_uri": "https://localhost:8080/"
        },
        "id": "XeJFe_S-KyNw",
        "outputId": "92d121fa-593b-4002-f77c-ddb6b34dca47"
      },
      "execution_count": 87,
      "outputs": [
        {
          "output_type": "stream",
          "name": "stdout",
          "text": [
            "<class 'pandas.core.frame.DataFrame'>\n",
            "Int64Index: 8955 entries, 7647 to 23027\n",
            "Data columns (total 3 columns):\n",
            " #   Column       Non-Null Count  Dtype  \n",
            "---  ------       --------------  -----  \n",
            " 0   ID           8955 non-null   int64  \n",
            " 1   TARGET_DATE  8955 non-null   object \n",
            " 2   TARGET       8955 non-null   float32\n",
            "dtypes: float32(1), int64(1), object(1)\n",
            "memory usage: 244.9+ KB\n"
          ]
        }
      ]
    },
    {
      "cell_type": "code",
      "source": [
        "abc = test_p.groupby(['ID','TARGET_DATE']).aggregate(['median'])\n",
        "d = abc.reset_index(col_level=1)\n",
        "d"
      ],
      "metadata": {
        "colab": {
          "base_uri": "https://localhost:8080/",
          "height": 455
        },
        "id": "0RkG7XwRQfvn",
        "outputId": "3ea54424-5e81-4f49-9b6c-4b8878743b33"
      },
      "execution_count": 88,
      "outputs": [
        {
          "output_type": "execute_result",
          "data": {
            "text/plain": [
              "                           TARGET\n",
              "         ID TARGET_DATE    median\n",
              "0        15  2022-01-02  0.471590\n",
              "1        15  2022-01-04  0.552660\n",
              "2        30  2021-12-07  0.428555\n",
              "3        30  2021-12-28  0.269562\n",
              "4        52  2021-11-19  0.469146\n",
              "...     ...         ...       ...\n",
              "4950  19964  2021-11-29  0.322242\n",
              "4951  19977  2021-11-30  0.217237\n",
              "4952  19988  2022-01-13  0.595480\n",
              "4953  19988  2022-01-19  0.507202\n",
              "4954  19997  2022-01-03  0.287417\n",
              "\n",
              "[4955 rows x 3 columns]"
            ],
            "text/html": [
              "\n",
              "  <div id=\"df-b62b205a-5206-4cb6-8a8e-1721e191795f\">\n",
              "    <div class=\"colab-df-container\">\n",
              "      <div>\n",
              "<style scoped>\n",
              "    .dataframe tbody tr th:only-of-type {\n",
              "        vertical-align: middle;\n",
              "    }\n",
              "\n",
              "    .dataframe tbody tr th {\n",
              "        vertical-align: top;\n",
              "    }\n",
              "\n",
              "    .dataframe thead tr th {\n",
              "        text-align: left;\n",
              "    }\n",
              "</style>\n",
              "<table border=\"1\" class=\"dataframe\">\n",
              "  <thead>\n",
              "    <tr>\n",
              "      <th></th>\n",
              "      <th colspan=\"2\" halign=\"left\"></th>\n",
              "      <th>TARGET</th>\n",
              "    </tr>\n",
              "    <tr>\n",
              "      <th></th>\n",
              "      <th>ID</th>\n",
              "      <th>TARGET_DATE</th>\n",
              "      <th>median</th>\n",
              "    </tr>\n",
              "  </thead>\n",
              "  <tbody>\n",
              "    <tr>\n",
              "      <th>0</th>\n",
              "      <td>15</td>\n",
              "      <td>2022-01-02</td>\n",
              "      <td>0.471590</td>\n",
              "    </tr>\n",
              "    <tr>\n",
              "      <th>1</th>\n",
              "      <td>15</td>\n",
              "      <td>2022-01-04</td>\n",
              "      <td>0.552660</td>\n",
              "    </tr>\n",
              "    <tr>\n",
              "      <th>2</th>\n",
              "      <td>30</td>\n",
              "      <td>2021-12-07</td>\n",
              "      <td>0.428555</td>\n",
              "    </tr>\n",
              "    <tr>\n",
              "      <th>3</th>\n",
              "      <td>30</td>\n",
              "      <td>2021-12-28</td>\n",
              "      <td>0.269562</td>\n",
              "    </tr>\n",
              "    <tr>\n",
              "      <th>4</th>\n",
              "      <td>52</td>\n",
              "      <td>2021-11-19</td>\n",
              "      <td>0.469146</td>\n",
              "    </tr>\n",
              "    <tr>\n",
              "      <th>...</th>\n",
              "      <td>...</td>\n",
              "      <td>...</td>\n",
              "      <td>...</td>\n",
              "    </tr>\n",
              "    <tr>\n",
              "      <th>4950</th>\n",
              "      <td>19964</td>\n",
              "      <td>2021-11-29</td>\n",
              "      <td>0.322242</td>\n",
              "    </tr>\n",
              "    <tr>\n",
              "      <th>4951</th>\n",
              "      <td>19977</td>\n",
              "      <td>2021-11-30</td>\n",
              "      <td>0.217237</td>\n",
              "    </tr>\n",
              "    <tr>\n",
              "      <th>4952</th>\n",
              "      <td>19988</td>\n",
              "      <td>2022-01-13</td>\n",
              "      <td>0.595480</td>\n",
              "    </tr>\n",
              "    <tr>\n",
              "      <th>4953</th>\n",
              "      <td>19988</td>\n",
              "      <td>2022-01-19</td>\n",
              "      <td>0.507202</td>\n",
              "    </tr>\n",
              "    <tr>\n",
              "      <th>4954</th>\n",
              "      <td>19997</td>\n",
              "      <td>2022-01-03</td>\n",
              "      <td>0.287417</td>\n",
              "    </tr>\n",
              "  </tbody>\n",
              "</table>\n",
              "<p>4955 rows × 3 columns</p>\n",
              "</div>\n",
              "      <button class=\"colab-df-convert\" onclick=\"convertToInteractive('df-b62b205a-5206-4cb6-8a8e-1721e191795f')\"\n",
              "              title=\"Convert this dataframe to an interactive table.\"\n",
              "              style=\"display:none;\">\n",
              "        \n",
              "  <svg xmlns=\"http://www.w3.org/2000/svg\" height=\"24px\"viewBox=\"0 0 24 24\"\n",
              "       width=\"24px\">\n",
              "    <path d=\"M0 0h24v24H0V0z\" fill=\"none\"/>\n",
              "    <path d=\"M18.56 5.44l.94 2.06.94-2.06 2.06-.94-2.06-.94-.94-2.06-.94 2.06-2.06.94zm-11 1L8.5 8.5l.94-2.06 2.06-.94-2.06-.94L8.5 2.5l-.94 2.06-2.06.94zm10 10l.94 2.06.94-2.06 2.06-.94-2.06-.94-.94-2.06-.94 2.06-2.06.94z\"/><path d=\"M17.41 7.96l-1.37-1.37c-.4-.4-.92-.59-1.43-.59-.52 0-1.04.2-1.43.59L10.3 9.45l-7.72 7.72c-.78.78-.78 2.05 0 2.83L4 21.41c.39.39.9.59 1.41.59.51 0 1.02-.2 1.41-.59l7.78-7.78 2.81-2.81c.8-.78.8-2.07 0-2.86zM5.41 20L4 18.59l7.72-7.72 1.47 1.35L5.41 20z\"/>\n",
              "  </svg>\n",
              "      </button>\n",
              "      \n",
              "  <style>\n",
              "    .colab-df-container {\n",
              "      display:flex;\n",
              "      flex-wrap:wrap;\n",
              "      gap: 12px;\n",
              "    }\n",
              "\n",
              "    .colab-df-convert {\n",
              "      background-color: #E8F0FE;\n",
              "      border: none;\n",
              "      border-radius: 50%;\n",
              "      cursor: pointer;\n",
              "      display: none;\n",
              "      fill: #1967D2;\n",
              "      height: 32px;\n",
              "      padding: 0 0 0 0;\n",
              "      width: 32px;\n",
              "    }\n",
              "\n",
              "    .colab-df-convert:hover {\n",
              "      background-color: #E2EBFA;\n",
              "      box-shadow: 0px 1px 2px rgba(60, 64, 67, 0.3), 0px 1px 3px 1px rgba(60, 64, 67, 0.15);\n",
              "      fill: #174EA6;\n",
              "    }\n",
              "\n",
              "    [theme=dark] .colab-df-convert {\n",
              "      background-color: #3B4455;\n",
              "      fill: #D2E3FC;\n",
              "    }\n",
              "\n",
              "    [theme=dark] .colab-df-convert:hover {\n",
              "      background-color: #434B5C;\n",
              "      box-shadow: 0px 1px 3px 1px rgba(0, 0, 0, 0.15);\n",
              "      filter: drop-shadow(0px 1px 2px rgba(0, 0, 0, 0.3));\n",
              "      fill: #FFFFFF;\n",
              "    }\n",
              "  </style>\n",
              "\n",
              "      <script>\n",
              "        const buttonEl =\n",
              "          document.querySelector('#df-b62b205a-5206-4cb6-8a8e-1721e191795f button.colab-df-convert');\n",
              "        buttonEl.style.display =\n",
              "          google.colab.kernel.accessAllowed ? 'block' : 'none';\n",
              "\n",
              "        async function convertToInteractive(key) {\n",
              "          const element = document.querySelector('#df-b62b205a-5206-4cb6-8a8e-1721e191795f');\n",
              "          const dataTable =\n",
              "            await google.colab.kernel.invokeFunction('convertToInteractive',\n",
              "                                                     [key], {});\n",
              "          if (!dataTable) return;\n",
              "\n",
              "          const docLinkHtml = 'Like what you see? Visit the ' +\n",
              "            '<a target=\"_blank\" href=https://colab.research.google.com/notebooks/data_table.ipynb>data table notebook</a>'\n",
              "            + ' to learn more about interactive tables.';\n",
              "          element.innerHTML = '';\n",
              "          dataTable['output_type'] = 'display_data';\n",
              "          await google.colab.output.renderOutput(dataTable, element);\n",
              "          const docLink = document.createElement('div');\n",
              "          docLink.innerHTML = docLinkHtml;\n",
              "          element.appendChild(docLink);\n",
              "        }\n",
              "      </script>\n",
              "    </div>\n",
              "  </div>\n",
              "  "
            ]
          },
          "metadata": {},
          "execution_count": 88
        }
      ]
    },
    {
      "cell_type": "code",
      "source": [
        "d['TARGET'] = d[(\"TARGET\", \"median\")]\n",
        "d['ID'] = d[(\"\", 'ID')]\n",
        "d['TARGET_DATE'] = d[(\"\", 'TARGET_DATE')]             "
      ],
      "metadata": {
        "id": "XfyFfpQ5dT2b"
      },
      "execution_count": 89,
      "outputs": []
    },
    {
      "cell_type": "code",
      "source": [
        "d = pd.concat([d['TARGET'],d['ID'],d['TARGET_DATE']], axis=1)\n",
        "d = d[['ID','TARGET_DATE', 'median']]\n",
        "d = d.rename(columns={'median':'TARGET'})"
      ],
      "metadata": {
        "id": "9NlZGZJImBQY"
      },
      "execution_count": 90,
      "outputs": []
    },
    {
      "cell_type": "code",
      "source": [
        "d['TARGET'] = d['TARGET'].round(1)\n",
        "result = d.sort_values(by=['TARGET_DATE', 'ID'])"
      ],
      "metadata": {
        "id": "HYMaIhsVrBra"
      },
      "execution_count": 91,
      "outputs": []
    },
    {
      "cell_type": "code",
      "source": [
        "def MdAPE(y_test, y_pred):\n",
        "\treturn np.median(np.abs((real_data - predict_data) / real_data))\n",
        "    \n",
        "print(f\"MdAPE: {MdAPE(real_data, predict_data):.1f}\")\n",
        "#"
      ],
      "metadata": {
        "colab": {
          "base_uri": "https://localhost:8080/"
        },
        "id": "yFBPLbtNZJXJ",
        "outputId": "4675ba01-d72b-4e0a-843a-147894bd24e3"
      },
      "execution_count": 100,
      "outputs": [
        {
          "output_type": "stream",
          "name": "stdout",
          "text": [
            "MdAPE: 0.6\n"
          ]
        }
      ]
    },
    {
      "cell_type": "code",
      "source": [
        "result['TARGET'].value_counts()"
      ],
      "metadata": {
        "colab": {
          "base_uri": "https://localhost:8080/"
        },
        "id": "A7uHVWEMwVom",
        "outputId": "15fdca87-d526-495e-99a9-235f6ec7d003"
      },
      "execution_count": 93,
      "outputs": [
        {
          "output_type": "execute_result",
          "data": {
            "text/plain": [
              "0.200000       884\n",
              "0.300000       802\n",
              "0.100000       768\n",
              "0.400000       542\n",
              "0.500000       428\n",
              "0.000000       339\n",
              "1.000000       296\n",
              "0.600000       271\n",
              "0.900000       204\n",
              "0.800000       203\n",
              "0.700000       199\n",
              "1.400000         2\n",
              "1119.599976      1\n",
              "143.600006       1\n",
              "2991.199951      1\n",
              "2442.800049      1\n",
              "312.100006       1\n",
              "265.600006       1\n",
              "290.299988       1\n",
              "87.800003        1\n",
              "9.200000         1\n",
              "6.700000         1\n",
              "1.900000         1\n",
              "3.500000         1\n",
              "5.000000         1\n",
              "343.600006       1\n",
              "66.199997        1\n",
              "1828.500000      1\n",
              "1.200000         1\n",
              "Name: TARGET, dtype: int64"
            ]
          },
          "metadata": {},
          "execution_count": 93
        }
      ]
    },
    {
      "cell_type": "code",
      "source": [
        "result.to_csv('/content/Result.csv', index=False)"
      ],
      "metadata": {
        "id": "flOxKer2-LcM"
      },
      "execution_count": 96,
      "outputs": []
    },
    {
      "cell_type": "markdown",
      "source": [
        "학습데이터의 비율을 높이고,  가격 변동폭이 너무 크거나 다른 아이템들 대비 가격 차이가 심할 경우의 아이템들을 필터링 해준 후, epoch을 늘려서 학습시킨다면 더 나은 성능을 보여줄 것으로 기대 되지만 과적합 경우를 경계해야한다."
      ],
      "metadata": {
        "id": "Kv6JS0z1xhcM"
      }
    }
  ]
}